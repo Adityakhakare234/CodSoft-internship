{
  "nbformat": 4,
  "nbformat_minor": 0,
  "metadata": {
    "colab": {
      "provenance": []
    },
    "kernelspec": {
      "name": "python3",
      "display_name": "Python 3"
    },
    "language_info": {
      "name": "python"
    }
  },
  "cells": [
    {
      "cell_type": "code",
      "source": [
        "# Import necessary libraries\n",
        "import pandas as pd\n",
        "from sklearn.metrics.pairwise import cosine_similarity\n",
        "from sklearn.feature_extraction.text import CountVectorizer\n",
        "\n",
        "# Sample dataset of movies with genres\n",
        "data = {\n",
        "    'MovieID': [1, 2, 3, 4, 5],\n",
        "    'Title': ['The Matrix', 'Toy Story', 'The Godfather', 'Finding Nemo', 'Pulp Fiction'],\n",
        "    'Genre': ['Action Sci-Fi', 'Animation Comedy', 'Crime Drama', 'Animation Adventure', 'Crime Drama']\n",
        "}\n",
        "\n",
        "# Create a DataFrame\n",
        "df = pd.DataFrame(data)\n",
        "\n",
        "# Display the dataset\n",
        "print(\"Dataset:\")\n",
        "print(df)\n",
        "\n",
        "# Create a Count Vectorizer for the 'Genre' column\n",
        "vectorizer = CountVectorizer()\n",
        "genre_matrix = vectorizer.fit_transform(df['Genre'])\n",
        "\n",
        "# Compute the cosine similarity matrix\n",
        "cosine_sim = cosine_similarity(genre_matrix, genre_matrix)\n",
        "\n",
        "# Function to get movie recommendations\n",
        "def recommend_movies(movie_title, cosine_sim=cosine_sim):\n",
        "    # Get the index of the movie that matches the title\n",
        "    idx = df[df['Title'] == movie_title].index[0]\n",
        "\n",
        "    # Get the similarity scores for all movies\n",
        "    sim_scores = list(enumerate(cosine_sim[idx]))\n",
        "\n",
        "    # Sort the movies based on the similarity scores\n",
        "    sim_scores = sorted(sim_scores, key=lambda x: x[1], reverse=True)\n",
        "\n",
        "    # Get the scores of the 3 most similar movies\n",
        "    sim_scores = sim_scores[1:4]\n",
        "\n",
        "    # Get the movie indices\n",
        "    movie_indices = [i[0] for i in sim_scores]\n",
        "\n",
        "    # Return the top 3 most similar movies\n",
        "    return df['Title'].iloc[movie_indices]\n",
        "\n",
        "# Example usage\n",
        "print(\"\\nRecommendations for 'The Matrix':\")\n",
        "print(recommend_movies('The Matrix'))"
      ],
      "metadata": {
        "colab": {
          "base_uri": "https://localhost:8080/"
        },
        "id": "e6TiyDOaN_2D",
        "outputId": "69d912f8-4343-4d45-fdd6-23ab2af6d656"
      },
      "execution_count": 6,
      "outputs": [
        {
          "output_type": "stream",
          "name": "stdout",
          "text": [
            "Dataset:\n",
            "   MovieID          Title                Genre\n",
            "0        1     The Matrix        Action Sci-Fi\n",
            "1        2      Toy Story     Animation Comedy\n",
            "2        3  The Godfather          Crime Drama\n",
            "3        4   Finding Nemo  Animation Adventure\n",
            "4        5   Pulp Fiction          Crime Drama\n",
            "\n",
            "Recommendations for 'The Matrix':\n",
            "1        Toy Story\n",
            "2    The Godfather\n",
            "3     Finding Nemo\n",
            "Name: Title, dtype: object\n"
          ]
        }
      ]
    }
  ]
}