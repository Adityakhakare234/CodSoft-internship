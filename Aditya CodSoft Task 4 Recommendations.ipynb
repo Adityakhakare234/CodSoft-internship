{
  "nbformat": 4,
  "nbformat_minor": 0,
  "metadata": {
    "colab": {
      "provenance": []
    },
    "kernelspec": {
      "name": "python3",
      "display_name": "Python 3"
    },
    "language_info": {
      "name": "python"
    }
  },
  "cells": [
    {
      "cell_type": "code",
      "source": [
        "import numpy as np\n",
        "from sklearn.metrics.pairwise import cosine_similarity\n",
        "\n",
        "ratings = np.array([\n",
        "    [5, 3, 0, 1],\n",
        "    [4, 0, 0, 1],\n",
        "    [1, 1, 0, 5],\n",
        "    [0, 0, 5, 4],\n",
        "    [0, 3, 4, 5]\n",
        "])\n",
        "\n",
        "user_similarity = cosine_similarity(ratings)\n",
        "np.fill_diagonal(user_similarity, 0)\n",
        "\n",
        "def predict_ratings(ratings, similarity):\n",
        "    # Indent the code block within the function\n",
        "    predictions = np.zeros(ratings.shape)\n",
        "\n",
        "    for user in range(ratings.shape[0]):\n",
        "        weighted_sum = np.dot(similarity[user], ratings)\n",
        "        sum_of_weights = np.abs(similarity[user]).sum()\n",
        "        predictions[user] = weighted_sum / (sum_of_weights + 10e-10)\n",
        "\n",
        "    return predictions\n",
        "\n",
        "predicted_ratings = predict_ratings(ratings, user_similarity)\n",
        "\n",
        "def recommend_items(predicted_ratings, user_id, top_n=2):\n",
        "    user_predictions = predicted_ratings[user_id]\n",
        "    already_rated = ratings[user_id] > 0\n",
        "    recommendations = np.argsort(user_predictions)[::-1]\n",
        "    recommendations = [item for item in recommendations if not already_rated[item]]\n",
        "\n",
        "    return recommendations[:top_n]\n",
        "\n",
        "user_id = 0\n",
        "recommendations = recommend_items(predicted_ratings, user_id)\n",
        "print(f\"Recommendations for User {user_id}: {recommendations}\")"
      ],
      "metadata": {
        "colab": {
          "base_uri": "https://localhost:8080/"
        },
        "id": "c4Nq3QqXRvsS",
        "outputId": "fb2aebc4-fbd7-4dd1-c0c7-a0d2c423f9af"
      },
      "execution_count": 2,
      "outputs": [
        {
          "output_type": "stream",
          "name": "stdout",
          "text": [
            "Recommendations for User 0: [2]\n"
          ]
        }
      ]
    }
  ]
}