{
  "nbformat": 4,
  "nbformat_minor": 0,
  "metadata": {
    "colab": {
      "provenance": []
    },
    "kernelspec": {
      "name": "python3",
      "display_name": "Python 3"
    },
    "language_info": {
      "name": "python"
    }
  },
  "cells": [
    {
      "cell_type": "code",
      "execution_count": 2,
      "metadata": {
        "colab": {
          "base_uri": "https://localhost:8080/"
        },
        "id": "eo-WAr2yzuvX",
        "outputId": "25889df9-8189-4649-b931-b92ba56d1390"
      },
      "outputs": [
        {
          "output_type": "stream",
          "name": "stdout",
          "text": [
            "Chatbot: Hello! I'm Aditya. Type 'bye' to end the conversation.\n",
            "You: hello\n",
            "Chatbot: Hi there! How can I assist you today?\n",
            "You: what is your name\n",
            "Chatbot: I'm your friendly chatbot. You can call me Aditya!\n",
            "You: what is python\n",
            "Chatbot: Python is a versatile programming language used for web development, data analysis, AI, and more.\n",
            "You: tell me what is ai\n",
            "Chatbot: Hmm, I'm not sure how to respond to that. Could you rephrase or ask something else?\n",
            "You: by\n",
            "Chatbot: Hmm, I'm not sure how to respond to that. Could you rephrase or ask something else?\n",
            "You: bye\n",
            "Chatbot: Goodbye! Have a great day!\n"
          ]
        }
      ],
      "source": [
        "def chatbot_response(user_input):\n",
        "    # Predefined rules for common conversational topics\n",
        "    user_input = user_input.lower()  # Convert input to lowercase for easier matching\n",
        "\n",
        "    if \"hello\" in user_input:\n",
        "        return \"Hi there! How can I assist you today?\"\n",
        "    elif \"how are you\" in user_input:\n",
        "        return \"I'm just a program, but I'm doing great! How about you?\"\n",
        "    elif \"what is your name\" in user_input:\n",
        "        return \"I'm your friendly chatbot. You can call me Aditya!\"\n",
        "    elif \"what can you do\" in user_input:\n",
        "        return \"I can chat with you, answer basic questions, and help you learn Python!\"\n",
        "    elif \"who created you As a chatbot\" in user_input:\n",
        "        return \"I was created by a Aditya K who loves programming and AI and knows the basics about the python programming.\"\n",
        "    elif \"tell me a What Is AI\" in user_input:\n",
        "        return \"a set of technologies that enable machines to perform tasks that mimic human cognitive functions, such as learning, reasoning, and problem-solving!\"\n",
        "    elif \"what is python\" in user_input:\n",
        "        return \"Python is a versatile programming language used for web development, data analysis, AI, and more.\"\n",
        "    elif \"what is the time\" in user_input:\n",
        "        from datetime import datetime\n",
        "        return f\"The current time is {datetime.now().strftime('%H:%M:%S')}.\"\n",
        "    elif \"thank you\" in user_input:\n",
        "        return \"You're welcome! Let me know if there's anything else I can do for you.\"\n",
        "    elif \"bye\" in user_input:\n",
        "        return \"Goodbye! Have a fantastic day!\"\n",
        "    else:\n",
        "        return \"Hmm, I'm not sure how to respond to that. Could you rephrase or ask something else?\"\n",
        "\n",
        "def chat():\n",
        "    print(\"Chatbot: Hello! I'm Aditya. Type 'bye' to end the conversation.\")\n",
        "    while True:\n",
        "        # Get user input\n",
        "        user_input = input(\"You: \")\n",
        "\n",
        "        if \"bye\" in user_input.lower():\n",
        "            print(\"Chatbot: Goodbye! Have a great day!\")\n",
        "            break\n",
        "\n",
        "        response = chatbot_response(user_input)\n",
        "        print(\"Chatbot:\", response)\n",
        "\n",
        "chat()\n"
      ]
    }
  ]
}